{
 "cells": [
  {
   "cell_type": "code",
   "execution_count": 14,
   "metadata": {},
   "outputs": [],
   "source": [
    "import pandas as pd\n",
    "import numpy as np\n",
    "import matplotlib"
   ]
  },
  {
   "cell_type": "code",
   "execution_count": 1,
   "metadata": {},
   "outputs": [
    {
     "name": "stdout",
     "output_type": "stream",
     "text": [
      "showing info https://raw.githubusercontent.com/nltk/nltk_data/gh-pages/index.xml\n"
     ]
    },
    {
     "data": {
      "text/plain": [
       "True"
      ]
     },
     "execution_count": 1,
     "metadata": {},
     "output_type": "execute_result"
    }
   ],
   "source": [
    "#importing nltk\n",
    "\n",
    "import nltk\n",
    "nltk.download()"
   ]
  },
  {
   "cell_type": "code",
   "execution_count": 2,
   "metadata": {},
   "outputs": [
    {
     "name": "stdout",
     "output_type": "stream",
     "text": [
      "*** Introductory Examples for the NLTK Book ***\n",
      "Loading text1, ..., text9 and sent1, ..., sent9\n",
      "Type the name of the text or sentence to view it.\n",
      "Type: 'texts()' or 'sents()' to list the materials.\n",
      "text1: Moby Dick by Herman Melville 1851\n",
      "text2: Sense and Sensibility by Jane Austen 1811\n",
      "text3: The Book of Genesis\n",
      "text4: Inaugural Address Corpus\n",
      "text5: Chat Corpus\n",
      "text6: Monty Python and the Holy Grail\n",
      "text7: Wall Street Journal\n",
      "text8: Personals Corpus\n",
      "text9: The Man Who Was Thursday by G . K . Chesterton 1908\n"
     ]
    }
   ],
   "source": [
    "from nltk.book import *"
   ]
  },
  {
   "cell_type": "code",
   "execution_count": 3,
   "metadata": {},
   "outputs": [
    {
     "data": {
      "text/plain": [
       "<Text: Moby Dick by Herman Melville 1851>"
      ]
     },
     "execution_count": 3,
     "metadata": {},
     "output_type": "execute_result"
    }
   ],
   "source": [
    "text1"
   ]
  },
  {
   "cell_type": "code",
   "execution_count": 4,
   "metadata": {},
   "outputs": [
    {
     "data": {
      "text/plain": [
       "<Text: Sense and Sensibility by Jane Austen 1811>"
      ]
     },
     "execution_count": 4,
     "metadata": {},
     "output_type": "execute_result"
    }
   ],
   "source": [
    "text2"
   ]
  },
  {
   "cell_type": "code",
   "execution_count": 5,
   "metadata": {
    "collapsed": true
   },
   "outputs": [
    {
     "name": "stdout",
     "output_type": "stream",
     "text": [
      "Displaying 25 of 306 matches:\n",
      "asses ! EXTRACTS . \" And God created great whales .\" -- GENESIS . \" Leviathan m\n",
      " JOB . \" Now the Lord had prepared a great fish to swallow up Jonah .\" -- JONAH\n",
      "t day , the Lord with his sore , and great , and strong sword , shall punish Le\n",
      " it goes all incontinently that foul great swallow of his , and perisheth in th\n",
      "ys on the sea , when about sunrise a great many Whales and other monsters of th\n",
      "e - whales , which had bones of very great value for their teeth , of which he \n",
      "the sea - gudgeon retires into it in great security , and there sleeps .\" -- MO\n",
      "loads .\" -- STOWE ' S ANNALS . \" The great Leviathan that maketh the seas to se\n",
      "R ISLANDS . \" By art is created that great Leviathan , called a Commonwealth or\n",
      "t they were forced to proceed with a great deal of caution for fear they should\n",
      "hes , you would make them speak like great wales .\" -- GOLDSMITH TO JOHNSON . \"\n",
      "venture to attack . They stand in so great dread of some of them , that when ou\n",
      "UCKET WHALE - FISHERY . \" Spain -- a great whale stranded on the shores of Euro\n",
      "ly destroyed . ... It is a matter of great astonishment that the consideration \n",
      " . Should you ever be athirst in the great American desert , try this experimen\n",
      "ves was the overwhelming idea of the great whale himself . Such a portentous an\n",
      "the whaling voyage was welcome ; the great flood - gates of the wonder - world \n",
      "h behind her , yet Nantucket was her great original -- the Tyre of this Carthag\n",
      "cond , interior door . It seemed the great Black Parliament sitting in Tophet .\n",
      "blance to a gigantic fish ? even the great leviathan himself ? In fact , the ar\n",
      "ture represents a Cape - Horner in a great hurricane ; the half - foundered shi\n",
      "h what in old times must have been a great central chimney with fireplaces all \n",
      "er grin , and throwing them into the great stove in the middle of the room , he\n",
      " lot of ' balmed New Zealand heads ( great curios , you know ), and he ' s sold\n",
      " mouth at the handle , he puffed out great clouds of tobacco smoke . The next m\n"
     ]
    }
   ],
   "source": [
    "#Occurance of a word\n",
    "text1.concordance(\"great\")"
   ]
  },
  {
   "cell_type": "code",
   "execution_count": 6,
   "metadata": {
    "collapsed": true
   },
   "outputs": [
    {
     "name": "stdout",
     "output_type": "stream",
     "text": [
      "Displaying 25 of 77 matches:\n",
      "priety of going , and her own tender love for all her three children determine\n",
      "es .\" \" I believe you are right , my love ; it will be better that there shoul\n",
      " . It implies everything amiable . I love him already .\" \" I think you will li\n",
      "sentiment of approbation inferior to love .\" \" You may esteem him .\" \" I have \n",
      "n what it was to separate esteem and love .\" Mrs . Dashwood now took pains to \n",
      "oner did she perceive any symptom of love in his behaviour to Elinor , than sh\n",
      " how shall we do without her ?\" \" My love , it will be scarcely a separation .\n",
      "ise . Edward is very amiable , and I love him tenderly . But yet -- he is not \n",
      "ll never see a man whom I can really love . I require so much ! He must have a\n",
      "ry possible charm .\" \" Remember , my love , that you are not seventeen . It is\n",
      "f I do not now . When you tell me to love him as a brother , I shall no more s\n",
      "hat Colonel Brandon was very much in love with Marianne Dashwood . She rather \n",
      "e were ever animated enough to be in love , must have long outlived every sens\n",
      "hirty - five anything near enough to love , to make him a desirable companion \n",
      "roach would have been spared .\" \" My love ,\" said her mother , \" you must not \n",
      "pect that the misery of disappointed love had already been known to him . This\n",
      " most melancholy order of disastrous love . CHAPTER 12 As Elinor and Marianne \n",
      "hen she considered what Marianne ' s love for him was , a quarrel seemed almos\n",
      "ctory way ;-- but you , Elinor , who love to doubt where you can -- it will no\n",
      " man whom we have all such reason to love , and no reason in the world to thin\n",
      "ded as he must be of your sister ' s love , should leave her , and leave her p\n",
      "cannot think that . He must and does love her I am sure .\" \" But with a strang\n",
      " I believe not ,\" cried Elinor . \" I love Willoughby , sincerely love him ; an\n",
      "or . \" I love Willoughby , sincerely love him ; and suspicion of his integrity\n",
      "deed a man could not very well be in love with either of her daughters , witho\n"
     ]
    }
   ],
   "source": [
    "text2.concordance(\"love\")"
   ]
  },
  {
   "cell_type": "code",
   "execution_count": 9,
   "metadata": {},
   "outputs": [
    {
     "name": "stdout",
     "output_type": "stream",
     "text": [
      "sea man it ship by him hand them whale view ships land me life death\n",
      "water way head nature fear\n"
     ]
    }
   ],
   "source": [
    "#Other words used in similar contexts ---- not very effective\n",
    "text1.similar(\"love\")"
   ]
  },
  {
   "cell_type": "code",
   "execution_count": 10,
   "metadata": {},
   "outputs": [
    {
     "name": "stdout",
     "output_type": "stream",
     "text": [
      "affection sister heart mother time see town life it dear elinor\n",
      "marianne me word family her him do regard head\n"
     ]
    }
   ],
   "source": [
    "text2.similar(\"love\")"
   ]
  },
  {
   "cell_type": "code",
   "execution_count": 11,
   "metadata": {},
   "outputs": [
    {
     "name": "stdout",
     "output_type": "stream",
     "text": [
      "s_for her_and his_for s_it and_to s_and his_was her_for\n"
     ]
    }
   ],
   "source": [
    "#To find the common contexts between two words\n",
    "text2.common_contexts(['love','affection'])"
   ]
  },
  {
   "cell_type": "code",
   "execution_count": null,
   "metadata": {},
   "outputs": [],
   "source": [
    "#Dispersion Plots"
   ]
  },
  {
   "cell_type": "code",
   "execution_count": 15,
   "metadata": {},
   "outputs": [
    {
     "data": {
      "image/png": "[encoded data removed]",
      "text/plain": [
       "<Figure size 432x288 with 1 Axes>"
      ]
     },
     "metadata": {
      "needs_background": "light"
     },
     "output_type": "display_data"
    }
   ],
   "source": [
    "text1.dispersion_plot(['love','great','fan','curious'])"
   ]
  },
  {
   "cell_type": "code",
   "execution_count": null,
   "metadata": {},
   "outputs": [],
   "source": []
  }
 ],
 "metadata": {
  "kernelspec": {
   "display_name": "Python 3",
   "language": "python",
   "name": "python3"
  },
  "language_info": {
   "codemirror_mode": {
    "name": "ipython",
    "version": 3
   },
   "file_extension": ".py",
   "mimetype": "text/x-python",
   "name": "python",
   "nbconvert_exporter": "python",
   "pygments_lexer": "ipython3",
   "version": "3.7.3"
  }
 },
 "nbformat": 4,
 "nbformat_minor": 2
}
